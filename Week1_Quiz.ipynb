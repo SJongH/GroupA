{
  "cells": [
    {
      "cell_type": "markdown",
      "metadata": {
        "colab_type": "text",
        "id": "view-in-github"
      },
      "source": [
        "<a href=\"https://colab.research.google.com/github/SJongH/GroupA/blob/main/Week1_Quiz.ipynb\" target=\"_parent\"><img src=\"https://colab.research.google.com/assets/colab-badge.svg\" alt=\"Open In Colab\"/></a>"
      ]
    },
    {
      "cell_type": "code",
      "execution_count": 1,
      "metadata": {
        "id": "K0AuGwMv37L4"
      },
      "outputs": [],
      "source": [
        "import time\n",
        "def timer(func):\n",
        "  def wrapper(*args, **kwargs):\n",
        "    start_time  = time.time()\n",
        "    result = func (*args, **kwargs)\n",
        "    end_time = time.time()\n",
        "    computation_time = end_time - start_time\n",
        "    print(f\"Execution time of {func.__name__} {computation_time} seconds\")\n",
        "    return result\n",
        "  return wrapper"
      ]
    },
    {
      "cell_type": "code",
      "execution_count": 2,
      "metadata": {
        "id": "4LnDKlA3NrQ-"
      },
      "outputs": [],
      "source": [
        "# Data Generation\n",
        "\n",
        "import numpy as np\n",
        "\n",
        "true_b = 1\n",
        "true_w = 2\n",
        "N = 100\n",
        "\n",
        "np.random.seed(42)\n",
        "x = np.random.rand(N, 1)\n",
        "epsilon = (0.1 * np.random.randn(N, 1))\n",
        "y = true_b + true_w * x + epsilon\n",
        "# * : dot product, @ : matrix multiplication"
      ]
    },
    {
      "cell_type": "code",
      "execution_count": 3,
      "metadata": {
        "id": "c81go33SOvVu"
      },
      "outputs": [],
      "source": [
        "# Train-Validation Split\n",
        "\n",
        "idx = np.arange(N)\n",
        "split_idx = int(0.8 * N) # 4:1로 나누는게 국룰\n",
        "train_idx = idx[:split_idx]\n",
        "val_idx = idx[split_idx:]\n",
        "\n",
        "x_train, y_train = x[train_idx], y[train_idx]\n",
        "x_val, y_val = x[val_idx], y[val_idx]\n",
        "\n",
        "# scikit-learn 패키지로 쉽게 가능"
      ]
    },
    {
      "cell_type": "code",
      "execution_count": 4,
      "metadata": {
        "id": "IBR9vJDxPQk1"
      },
      "outputs": [],
      "source": [
        "@timer\n",
        "def train_model_numpy(lr = 0.1, epochs = 1000):\n",
        "  b = np.random.randn(1)\n",
        "  w = np.random.randn(1)\n",
        "\n",
        "  for epoch in range(epochs):\n",
        "    y_hat = b+w*x_train\n",
        "    error = (y_hat - y_train)\n",
        "    mse_loss = np.mean(error ** 2)\n",
        "\n",
        "\n",
        "    b_grad = 2 * np.mean(error)\n",
        "    w_grad = 2 * np.mean(x_train * error)\n",
        "    b = b - lr * b_grad\n",
        "    w = w - lr * w_grad\n",
        "  return b, w\n"
      ]
    },
    {
      "cell_type": "code",
      "execution_count": 5,
      "metadata": {
        "colab": {
          "base_uri": "https://localhost:8080/"
        },
        "id": "HEAyHnc3PtQx",
        "outputId": "3d5b42fa-1de7-4178-9087-4c903d2a8b05"
      },
      "outputs": [
        {
          "name": "stdout",
          "output_type": "stream",
          "text": [
            "Execution time of train_model_numpy 0.0790259838104248 seconds\n",
            "b_estimate: [1.02341376], w_estimate: [1.93680725]\n"
          ]
        }
      ],
      "source": [
        "b, w = train_model_numpy()\n",
        "\n",
        "print('b_estimate: {}, w_estimate: {}'.format(b, w))"
      ]
    },
    {
      "cell_type": "code",
      "execution_count": 6,
      "metadata": {
        "id": "sr8yQZAh1RpX"
      },
      "outputs": [],
      "source": [
        "# Data Generation with Pytorch\n",
        "\n",
        "import torch\n",
        "# create tensor in cpu\n",
        "x_train_tensor = torch.as_tensor(x_train)\n",
        "y_train_tensor = torch.as_tensor(y_train)\n",
        "\n",
        "# create tensor in gpu\n",
        "device = 'cuda' if torch.cuda.is_available() else 'cpu'\n",
        "x_train_tensor = torch.as_tensor(x_train).to(device)\n",
        "y_train_tensor = torch.as_tensor(y_train).to(device)"
      ]
    },
    {
      "cell_type": "code",
      "execution_count": 7,
      "metadata": {
        "id": "JXtmBaM361fW"
      },
      "outputs": [],
      "source": [
        "@timer\n",
        "def train_model_torch(lr = 0.1, epochs = 1000):\n",
        "  b = torch.randn(1, requires_grad = True, dtype = torch.float, device = device)\n",
        "  w = torch.randn(1, requires_grad = True, dtype = torch.float, device = device)\n",
        "\n",
        "  for epoch in range(epochs):\n",
        "    y_hat = b + w * x_train_tensor\n",
        "    error = (y_hat - y_train_tensor)\n",
        "    mse_loss = torch.mean(error**2)\n",
        "    mse_loss.backward()\n",
        "\n",
        "    # in-place operation 을 이용하므로 no_grad로 사용해야함\n",
        "    # 일정한 id를 유지하기위해 in-place operation을 사용함\n",
        "\n",
        "    with torch.no_grad():\n",
        "      b -= lr * b.grad\n",
        "      w -= lr * w.grad\n",
        "    # _: in-place operation 사용하라는 규칙\n",
        "    b.grad.zero_()\n",
        "    w.grad.zero_()\n",
        "  return b, w"
      ]
    },
    {
      "cell_type": "code",
      "execution_count": 8,
      "metadata": {
        "colab": {
          "base_uri": "https://localhost:8080/"
        },
        "id": "zMbGPfFSAfcD",
        "outputId": "73039e69-6f98-4990-dfc8-2ef378af5d2a"
      },
      "outputs": [
        {
          "name": "stdout",
          "output_type": "stream",
          "text": [
            "Execution time of train_model_torch 0.41872572898864746 seconds\n",
            "b_estimate: 1.0234160423278809, w_estimate: 1.936802864074707\n"
          ]
        }
      ],
      "source": [
        "b, w = train_model_torch()\n",
        "print('b_estimate: {}, w_estimate: {}'.format(b.item(), w.item()))"
      ]
    },
    {
      "cell_type": "code",
      "execution_count": 9,
      "metadata": {
        "id": "5sr11DhaAnkP"
      },
      "outputs": [],
      "source": [
        "import torch.optim as optim\n",
        "import torch.nn as nn\n",
        "\n",
        "def train_model_torch(lr = 0.1, epochs = 1000):\n",
        "  b = torch.randn(1, requires_grad = True, dtype = torch.float, device = device)\n",
        "  w = torch.randn(1, requires_grad = True, dtype = torch.float, device = device)\n",
        "  parameters = [b, w]\n",
        "  optimizer = optim.SGD(parameters, lr = lr)\n",
        "  mse_loss = nn.MSELoss()\n",
        "\n",
        "  for epoch in range(epochs):\n",
        "    y_hat = b + w*x_train_tensor\n",
        "    loss = mse_loss(y_hat, y_train_tensor)\n",
        "\n",
        "    optimizer.zero_grad()\n",
        "    loss.backward()\n",
        "    optimizer.step()\n",
        "  return b, w\n",
        "\n",
        "\n"
      ]
    },
    {
      "cell_type": "code",
      "execution_count": 10,
      "metadata": {
        "colab": {
          "base_uri": "https://localhost:8080/"
        },
        "id": "XLeo7TRVCp90",
        "outputId": "e2cefb11-3bc8-48b1-ca96-babdf6b8fb4e"
      },
      "outputs": [
        {
          "name": "stdout",
          "output_type": "stream",
          "text": [
            "b_estimate: 1.0234160423278809, w_estimate: 1.936802864074707\n"
          ]
        }
      ],
      "source": [
        "b, w = train_model_torch()\n",
        "print('b_estimate: {}, w_estimate: {}'.format(b.item(), w.item()))"
      ]
    },
    {
      "cell_type": "markdown",
      "metadata": {
        "id": "fgaCS6DhHZKH"
      },
      "source": [
        "# Quiz 1\n",
        "- test data 에서 MSE eroor 계산 코드 구현\n"
      ]
    },
    {
      "cell_type": "code",
      "execution_count": 11,
      "metadata": {
        "id": "tQdfM6rVCtuT"
      },
      "outputs": [],
      "source": [
        "x_val_tensor = torch.as_tensor(x_val).to(device)\n",
        "y_val_tensor = torch.as_tensor(y_val).to(device)"
      ]
    },
    {
      "cell_type": "code",
      "execution_count": 12,
      "metadata": {
        "colab": {
          "base_uri": "https://localhost:8080/"
        },
        "id": "JBddl488EEgO",
        "outputId": "c7c160d4-5f2e-4ac6-ad8f-d003a1b5d8a0"
      },
      "outputs": [
        {
          "name": "stdout",
          "output_type": "stream",
          "text": [
            "tensor(0.0098, dtype=torch.float64, grad_fn=<MseLossBackward0>)\n"
          ]
        }
      ],
      "source": [
        "y_estimate = b+ w*x_val_tensor\n",
        "mseloss = nn.MSELoss()\n",
        "error = mseloss(y_val_tensor, y_estimate)\n",
        "print(error)"
      ]
    },
    {
      "cell_type": "markdown",
      "metadata": {},
      "source": [
        "# Quiz 2\n",
        "- 주어진 데이터에 fitting 하는 모델 생성하기"
      ]
    },
    {
      "cell_type": "code",
      "execution_count": 20,
      "metadata": {},
      "outputs": [],
      "source": [
        "import pandas as pd\n",
        "import matplotlib.pyplot as plt"
      ]
    },
    {
      "cell_type": "code",
      "execution_count": 21,
      "metadata": {},
      "outputs": [],
      "source": [
        "import time\n",
        "def timer(func):\n",
        "    def wrapper(*args, **kwargs):\n",
        "        start_time = time.time()\n",
        "        result = func(*args, **kwargs)\n",
        "        end_time = time.time()\n",
        "        computation_time = end_time - start_time\n",
        "        print(f\"Execution time of {func.__name__}: {computation_time} seconds\")\n",
        "        return result\n",
        "    return wrapper"
      ]
    },
    {
      "cell_type": "code",
      "execution_count": 22,
      "metadata": {},
      "outputs": [],
      "source": [
        "data = pd.read_pickle('quiz_data.pkl')\n"
      ]
    },
    {
      "cell_type": "code",
      "execution_count": 23,
      "metadata": {},
      "outputs": [],
      "source": [
        "x = data['x']\n",
        "y = data['y']"
      ]
    },
    {
      "cell_type": "code",
      "execution_count": 30,
      "metadata": {},
      "outputs": [
        {
          "data": {
            "text/plain": [
              "<matplotlib.collections.PathCollection at 0x1a4835e1010>"
            ]
          },
          "execution_count": 30,
          "metadata": {},
          "output_type": "execute_result"
        },
        {
          "data": {
            "image/png": "[encoded data removed]",
            "text/plain": [
              "<Figure size 640x480 with 1 Axes>"
            ]
          },
          "metadata": {},
          "output_type": "display_data"
        }
      ],
      "source": [
        "plt.scatter(x, y)"
      ]
    },
    {
      "cell_type": "code",
      "execution_count": 31,
      "metadata": {},
      "outputs": [],
      "source": [
        "import torch\n",
        "import torch.nn as nn\n",
        "import torch.optim as optim\n",
        "import numpy as np"
      ]
    },
    {
      "cell_type": "code",
      "execution_count": 32,
      "metadata": {},
      "outputs": [],
      "source": [
        "N = len(x)\n",
        "idx = np.arange(N)\n",
        "split_idx = int(0.8 * N)\n",
        "train_idx = idx[:split_idx]\n",
        "val_idx = idx[split_idx:]\n",
        "device = 'cuda' if torch.cuda.is_available() else 'cpu'\n",
        "\n",
        "train_x = torch.as_tensor(x[train_idx]).to(device)\n",
        "train_y = torch.as_tensor(y[train_idx]).to(device)\n",
        "val_x = torch.as_tensor(x[val_idx]).to(device)\n",
        "val_y = torch.as_tensor(y[val_idx]).to(device)\n",
        "\n",
        "def compute_y(parameter, x):\n",
        "    y = parameter[0]*x+parameter[1]*(x**2)+parameter[2]*(x**3)+parameter[3]\n",
        "    return y"
      ]
    },
    {
      "cell_type": "code",
      "execution_count": 33,
      "metadata": {},
      "outputs": [],
      "source": [
        "@timer\n",
        "def train_model(lr = 0.2, epochs = 800):\n",
        "    w1 = torch.randn(1, requires_grad=True, dtype=torch.float, device = device)\n",
        "    w2 = torch.randn(1, requires_grad=True, dtype=torch.float, device = device)\n",
        "    w3 = torch.randn(1, requires_grad=True, dtype=torch.float, device = device)\n",
        "    b = torch.randn(1, requires_grad=True, dtype=torch.float, device = device)\n",
        "    parameters = [w1, w2, w3, b]\n",
        "    optimizer = optim.Adam(parameters, lr=lr)\n",
        "    mseloss = nn.MSELoss()\n",
        "    for epoch in range(epochs):\n",
        "        y_hat = compute_y(parameters, train_x)\n",
        "        loss = mseloss(y_hat, train_y)\n",
        "        optimizer.zero_grad()\n",
        "        loss.backward()\n",
        "        optimizer.step()\n",
        "    return parameters"
      ]
    },
    {
      "cell_type": "code",
      "execution_count": 34,
      "metadata": {},
      "outputs": [],
      "source": [
        "def compute_loss(parameter):\n",
        "    y_estimate = compute_y(parameter, val_x)\n",
        "    mseloss = nn.MSELoss()\n",
        "    loss = mseloss(y_estimate, val_y)\n",
        "    return loss"
      ]
    },
    {
      "cell_type": "code",
      "execution_count": null,
      "metadata": {},
      "outputs": [
        {
          "name": "stdout",
          "output_type": "stream",
          "text": [
            "Execution time of train_model: 0.8997201919555664 seconds\n",
            "Execution time of train_model: 0.9401674270629883 seconds\n",
            "Execution time of train_model: 0.9122202396392822 seconds\n",
            "Execution time of train_model: 0.8856251239776611 seconds\n",
            "Execution time of train_model: 0.8628835678100586 seconds\n",
            "Execution time of train_model: 0.8643367290496826 seconds\n",
            "Execution time of train_model: 0.8325333595275879 seconds\n",
            "Execution time of train_model: 0.8478343486785889 seconds\n",
            "Execution time of train_model: 0.846522331237793 seconds\n",
            "Execution time of train_model: 0.8506810665130615 seconds\n",
            "mean of losses: 0.03592747564575686\n"
          ]
        }
      ],
      "source": [
        "losses = []\n",
        "parameters = []\n",
        "for i in range(10):\n",
        "    parameter = train_model()\n",
        "    parameters.append(parameter)\n",
        "    loss = compute_loss(parameter)\n",
        "    losses.append(loss.item())\n",
        "\n",
        "print('mean of losses: {}'.format(np.mean(losses)))"
      ]
    },
    {
      "cell_type": "code",
      "execution_count": null,
      "metadata": {},
      "outputs": [],
      "source": [
        "val_x_cpu = val_x.to('cpu')\n",
        "val_y_cpu = val_y.to('cpu')\n",
        "best_parameter = parameters[np.argmin(losses)]\n",
        "estimated_y = compute_y(best_parameter,val_x)\n",
        "estimated_y_cpu = estimated_y.to('cpu')"
      ]
    },
    {
      "cell_type": "code",
      "execution_count": null,
      "metadata": {},
      "outputs": [
        {
          "data": {
            "text/plain": [
              "<matplotlib.legend.Legend at 0x1a4842313d0>"
            ]
          },
          "execution_count": 37,
          "metadata": {},
          "output_type": "execute_result"
        },
        {
          "data": {
            "image/png": "[encoded data removed]",
            "text/plain": [
              "<Figure size 640x480 with 1 Axes>"
            ]
          },
          "metadata": {},
          "output_type": "display_data"
        }
      ],
      "source": [
        "plt.scatter(val_x_cpu,  val_y_cpu, label = 'True')\n",
        "plt.scatter(val_x_cpu, estimated_y_cpu.detach().numpy(), label = 'estimated')\n",
        "plt.legend()"
      ]
    }
  ],
  "metadata": {
    "colab": {
      "authorship_tag": "ABX9TyOMRpHfxkpSOkqKDLg5w2MT",
      "include_colab_link": true,
      "provenance": []
    },
    "kernelspec": {
      "display_name": "Python 3",
      "name": "python3"
    },
    "language_info": {
      "codemirror_mode": {
        "name": "ipython",
        "version": 3
      },
      "file_extension": ".py",
      "mimetype": "text/x-python",
      "name": "python",
      "nbconvert_exporter": "python",
      "pygments_lexer": "ipython3",
      "version": "3.11.0"
    }
  },
  "nbformat": 4,
  "nbformat_minor": 0
}
